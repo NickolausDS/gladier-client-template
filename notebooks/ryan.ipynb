{
 "cells": [
  {
   "cell_type": "markdown",
   "metadata": {},
   "source": [
    "# Analysis Flow\n",
    "\n",
    "This notebook demonstrates how an Automate Flow can be used to perform analysis. \n",
    "We use a flow that combines Globus Transfer and funcX to move data and then execute an analysis code on the data."
   ]
  },
  {
   "cell_type": "code",
   "execution_count": 1,
   "metadata": {},
   "outputs": [],
   "source": [
    "from globus_automate_client import (create_flows_client, graphviz_format, state_colors_for_log,\n",
    "                                    create_action_client, \n",
    "                                    create_flows_client)\n",
    "\n",
    "import time\n",
    "import json\n",
    "import sys\n",
    "import os\n",
    "\n",
    "from funcx.sdk.client import FuncXClient\n",
    "\n",
    "CLIENT_ID = \"e6c75d97-532a-4c88-b031-8584a319fa3e\""
   ]
  },
  {
   "cell_type": "markdown",
   "metadata": {},
   "source": [
    "## Create an analysis function\n",
    "\n",
    "Use funcX to register a simple analysis function."
   ]
  },
  {
   "cell_type": "code",
   "execution_count": 2,
   "metadata": {},
   "outputs": [],
   "source": [
    "# fxc = FuncXClient()\n",
    "fxc = FuncXClient(use_offprocess_checker=False)"
   ]
  },
  {
   "cell_type": "code",
   "execution_count": 3,
   "metadata": {},
   "outputs": [
    {
     "output_type": "execute_result",
     "data": {
      "text/plain": [
       "'0.2.3'"
      ]
     },
     "metadata": {},
     "execution_count": 3
    }
   ],
   "source": [
    "import funcx\n",
    "funcx.__version__"
   ]
  },
  {
   "cell_type": "code",
   "execution_count": 4,
   "metadata": {},
   "outputs": [
    {
     "output_type": "stream",
     "name": "stdout",
     "text": [
      "81c33e1e-1740-4f5d-a320-d4bf96163808\n"
     ]
    }
   ],
   "source": [
    "def file_size(pathname):\n",
    "    \"\"\"Return the size of a file\"\"\"\n",
    "    return 1\n",
    "#     import os\n",
    "#     return os.path.getsize(data['pathname'])\n",
    "\n",
    "func_uuid = fxc.register_function(file_size)\n",
    "print(func_uuid)"
   ]
  },
  {
   "cell_type": "code",
   "execution_count": 5,
   "metadata": {},
   "outputs": [
    {
     "output_type": "stream",
     "name": "stdout",
     "text": [
      "47ae41eb-84ff-45ef-82ca-fc309dcb8478\n"
     ]
    }
   ],
   "source": [
    "payload = {'pathname': '/etc/hostname'}\n",
    "tutorial_endpoint = '4b116d3c-1703-4f8f-9f6f-39921e5864df' # Public tutorial endpoint\n",
    "res = fxc.run(payload, endpoint_id=tutorial_endpoint, function_id=func_uuid)\n",
    "print(res)"
   ]
  },
  {
   "cell_type": "code",
   "execution_count": 6,
   "metadata": {},
   "outputs": [
    {
     "output_type": "execute_result",
     "data": {
      "text/plain": [
       "1"
      ]
     },
     "metadata": {},
     "execution_count": 6
    }
   ],
   "source": [
    "fxc.get_result(res)"
   ]
  },
  {
   "cell_type": "markdown",
   "metadata": {},
   "source": [
    "## Create the flow"
   ]
  },
  {
   "cell_type": "code",
   "execution_count": 7,
   "metadata": {},
   "outputs": [],
   "source": [
    "flow_definition = {\n",
    "  \"Comment\": \"An analysis flow\",\n",
    "  \"StartAt\": \"funcx\",\n",
    "  \"States\": {\n",
    "    \"funcx\": {\n",
    "      \"Comment\": \"Run a funcX function\",\n",
    "      \"Type\": \"Action\",\n",
    "      \"ActionUrl\": \"https://automate.funcx.org\",\n",
    "      \"ActionScope\": \"https://auth.globus.org/scopes/b3db7e59-a6f1-4947-95c2-59d6b7a70f8c/action_all\",\n",
    "      \"Parameters\": {\n",
    "          \"tasks\": [{\n",
    "            \"endpoint.$\": \"$.input.fx_ep\",\n",
    "            \"function.$\": \"$.input.fx_id\",\n",
    "            \"payload\": {\n",
    "                \"pathname.$\": \"$.input.pathname\"\n",
    "            }\n",
    "        }]\n",
    "      },\n",
    "      \"ResultPath\": \"$.AnalyzeResult\",\n",
    "      \"WaitTime\": 600,\n",
    "      \"End\": True\n",
    "    }\n",
    "  }\n",
    "}\n"
   ]
  },
  {
   "cell_type": "markdown",
   "metadata": {},
   "source": [
    "Register the flow"
   ]
  },
  {
   "cell_type": "code",
   "execution_count": 8,
   "metadata": {
    "scrolled": true
   },
   "outputs": [
    {
     "output_type": "stream",
     "name": "stdout",
     "text": [
      "Please log into Globus here:\n",
      "----------------------------\n",
      "https://auth.globus.org/v2/oauth2/authorize?client_id=e6c75d97-532a-4c88-b031-8584a319fa3e&redirect_uri=https%3A%2F%2Fauth.globus.org%2Fv2%2Fweb%2Fauth-code&scope=https%3A%2F%2Fauth.globus.org%2Fscopes%2Feec9b274-0c81-4334-bdc2-54e90e689b9a%2Fmanage_flows&state=_default&response_type=code&code_challenge=aS-krQby4JACEUMthX-7XWS53-rhkBAxuHEVRqZJXO4&code_challenge_method=S256&access_type=offline&prefill_named_grant=Globus+Automate+Command+Line+Interface+on+ripchip\n",
      "----------------------------\n",
      "\u001b[0m\n",
      "Enter the resulting Authorization Code here: GlobusHTTPResponse({'action_url': 'https://flows.globus.org/flows/0b6c40ff-d5f4-4d98-96b8-4f63597e1e1a', 'administered_by': [], 'api_version': '1.0', 'created_at': '2021-06-02T14:46:44.168811+00:00', 'created_by': 'urn:globus:auth:identity:95278182-10a1-11e6-9c7e-7b385f033313', 'definition': {'Comment': 'An analysis flow', 'StartAt': 'funcx', 'States': {'funcx': {'ActionScope': 'https://auth.globus.org/scopes/b3db7e59-a6f1-4947-95c2-59d6b7a70f8c/action_all', 'ActionUrl': 'https://automate.funcx.org', 'Comment': 'Run a funcX function', 'End': True, 'Parameters': {'tasks': [{'endpoint.$': '$.input.fx_ep', 'function.$': '$.input.fx_id', 'payload': {'pathname.$': '$.input.pathname'}}]}, 'ResultPath': '$.AnalyzeResult', 'Type': 'Action', 'WaitTime': 600}}}, 'description': '', 'flow_url': 'https://flows.globus.org/flows/0b6c40ff-d5f4-4d98-96b8-4f63597e1e1a', 'globus_auth_scope': 'https://auth.globus.org/scopes/0b6c40ff-d5f4-4d98-96b8-4f63597e1e1a/flow_0b6c40ff_d5f4_4d98_96b8_4f63597e1e1a_user', 'globus_auth_username': '0b6c40ff-d5f4-4d98-96b8-4f63597e1e1a@clients.auth.globus.org', 'id': '0b6c40ff-d5f4-4d98-96b8-4f63597e1e1a', 'keywords': [], 'log_supported': True, 'principal_urn': 'urn:globus:auth:identity:0b6c40ff-d5f4-4d98-96b8-4f63597e1e1a', 'runnable_by': [], 'subtitle': '', 'synchronous': False, 'title': 'Stills process workflow', 'types': ['Action'], 'updated_at': '2021-06-02T14:46:44.168811+00:00', 'visible_to': []})\n",
      "Newly created flow with id:\n",
      "0b6c40ff-d5f4-4d98-96b8-4f63597e1e1a\n",
      "and scope:\n",
      "https://auth.globus.org/scopes/0b6c40ff-d5f4-4d98-96b8-4f63597e1e1a/flow_0b6c40ff_d5f4_4d98_96b8_4f63597e1e1a_user\n"
     ]
    }
   ],
   "source": [
    "flows_client = create_flows_client(CLIENT_ID)\n",
    "flow = flows_client.deploy_flow(flow_definition, title=\"Stills process workflow\")\n",
    "flow_id = flow['id']\n",
    "print(flow)\n",
    "flow_scope = flow['globus_auth_scope']\n",
    "print(f'Newly created flow with id:\\n{flow_id}\\nand scope:\\n{flow_scope}')"
   ]
  },
  {
   "cell_type": "code",
   "execution_count": 9,
   "metadata": {},
   "outputs": [],
   "source": [
    "filename = 'test.txt'\n",
    "\n",
    "flow_input = {\n",
    "    \"input\": {\n",
    "        \"fx_id\": func_uuid,\n",
    "        \"fx_ep\": tutorial_endpoint,\n",
    "        \"pathname\": '/etc/hostname'\n",
    "    }\n",
    "}"
   ]
  },
  {
   "cell_type": "markdown",
   "metadata": {},
   "source": [
    "Run the flow and wait for it to complete\n",
    "\n",
    "Note: This will try to transfer a file called \"test.txt\" from your Globus Tutorial Endpoint 1."
   ]
  },
  {
   "cell_type": "code",
   "execution_count": 10,
   "metadata": {},
   "outputs": [
    {
     "output_type": "stream",
     "name": "stdout",
     "text": [
      "Please log into Globus here:\n",
      "----------------------------\n",
      "https://auth.globus.org/v2/oauth2/authorize?client_id=e6c75d97-532a-4c88-b031-8584a319fa3e&redirect_uri=https%3A%2F%2Fauth.globus.org%2Fv2%2Fweb%2Fauth-code&scope=https%3A%2F%2Fauth.globus.org%2Fscopes%2F0b6c40ff-d5f4-4d98-96b8-4f63597e1e1a%2Fflow_0b6c40ff_d5f4_4d98_96b8_4f63597e1e1a_user&state=_default&response_type=code&code_challenge=wUuayzyGf14d5kZRlvINJQuHps2B_VzayLwVV9CIvt4&code_challenge_method=S256&access_type=offline&prefill_named_grant=Globus+Automate+Command+Line+Interface+on+ripchip\n",
      "----------------------------\n",
      "\u001b[0m\n",
      "Enter the resulting Authorization Code here: Flow action started with id: 3c88e0bb-7671-41e2-a0aa-02dc7b79ee99\n",
      "Flow status: ACTIVE\n",
      "Flow status: ACTIVE\n",
      "Flow status: ACTIVE\n",
      "Flow status: ACTIVE\n",
      "Flow status: ACTIVE\n",
      "Flow status: ACTIVE\n",
      "Flow status: ACTIVE\n",
      "Flow status: ACTIVE\n",
      "Flow status: SUCCEEDED\n"
     ]
    }
   ],
   "source": [
    "flow_action = flows_client.run_flow(flow_id, flow_scope, flow_input)\n",
    "# print(flow_action)\n",
    "flow_action_id = flow_action['action_id']\n",
    "flow_status = flow_action['status']\n",
    "print(f'Flow action started with id: {flow_action_id}')\n",
    "while flow_status == 'ACTIVE':\n",
    "    time.sleep(5)\n",
    "    flow_action = flows_client.flow_action_status(flow_id, flow_scope, flow_action_id)\n",
    "    flow_status = flow_action['status']\n",
    "    print(f'Flow status: {flow_status}')"
   ]
  },
  {
   "cell_type": "markdown",
   "metadata": {},
   "source": [
    "Check the result of the analysis function"
   ]
  },
  {
   "cell_type": "code",
   "execution_count": 11,
   "metadata": {
    "scrolled": true
   },
   "outputs": [
    {
     "output_type": "execute_result",
     "data": {
      "text/plain": [
       "{'output': {'AnalyzeResult': {'action_id': '98cc74ca-4ecf-4f2a-a52f-8c5bb03bb040',\n",
       "   'details': '{\"80fdf41a-9d7f-4c6e-affa-56cb775d07e9\": {\"result\": 1}}',\n",
       "   'display_status': 'Function Results Received',\n",
       "   'state_name': 'funcx',\n",
       "   'status': 'SUCCEEDED'},\n",
       "  'input': {'fx_ep': '4b116d3c-1703-4f8f-9f6f-39921e5864df',\n",
       "   'fx_id': '81c33e1e-1740-4f5d-a320-d4bf96163808',\n",
       "   'pathname': '/etc/hostname'}}}"
      ]
     },
     "metadata": {},
     "execution_count": 11
    }
   ],
   "source": [
    "flow_action['details']"
   ]
  },
  {
   "cell_type": "code",
   "execution_count": null,
   "metadata": {},
   "outputs": [],
   "source": []
  }
 ],
 "metadata": {
  "kernelspec": {
   "name": "python395jvsc74a57bd09ec96f72c057f5570a920a7bee72360bdcf277cd85076a4a0c5e47974dfcca21",
   "display_name": "Python 3.9.5 64-bit ('gladier-test': conda)"
  },
  "language_info": {
   "codemirror_mode": {
    "name": "ipython",
    "version": 3
   },
   "file_extension": ".py",
   "mimetype": "text/x-python",
   "name": "python",
   "nbconvert_exporter": "python",
   "pygments_lexer": "ipython3",
   "version": "3.9.5"
  }
 },
 "nbformat": 4,
 "nbformat_minor": 4
}