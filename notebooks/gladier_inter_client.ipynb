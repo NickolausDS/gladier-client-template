{
 "metadata": {
  "language_info": {
   "codemirror_mode": {
    "name": "ipython",
    "version": 3
   },
   "file_extension": ".py",
   "mimetype": "text/x-python",
   "name": "python",
   "nbconvert_exporter": "python",
   "pygments_lexer": "ipython3",
   "version": "3.9.5"
  },
  "orig_nbformat": 2,
  "kernelspec": {
   "name": "python395jvsc74a57bd01e1c5be25592289d0ad4fc0701504cf11195459da7e191f56974b79cf336da02",
   "display_name": "Python 3.9.5 64-bit ('gladier_demo': conda)"
  }
 },
 "nbformat": 4,
 "nbformat_minor": 2,
 "cells": [
  {
   "cell_type": "code",
   "execution_count": 1,
   "metadata": {},
   "outputs": [],
   "source": [
    "from gladier import GladierBaseClient, generate_flow_definition\n",
    "from pprint import pprint\n",
    "import  os"
   ]
  },
  {
   "cell_type": "code",
   "execution_count": 4,
   "metadata": {},
   "outputs": [],
   "source": [
    "@generate_flow_definition\n",
    "class Example_Client(GladierBaseClient):\n",
    "    gladier_tools = [\n",
    "        'gladier_tools.globus.Transfer',\n",
    "        'gladier_tools.posix.Tar',\n",
    "    ]\n",
    "\n",
    "exampleClient = Example_Client()\n"
   ]
  },
  {
   "cell_type": "code",
   "execution_count": 15,
   "metadata": {},
   "outputs": [],
   "source": [
    "single = os.path.join(os.getcwd(),'awesome.sauce')\n",
    "\n",
    "if not os.path.isfile(single):\n",
    "    with open(single,\"w\") as file1:\n",
    "        file1.writelines([\"Gladier \\n\",\"Is \\n\",\"Awesome Sauce \\n\"])\n",
    "\n",
    "##parse dirs\n",
    "local_file = os.path.basename(single)\n",
    "local_dir = os.path.dirname(single)\n",
    "\n",
    "dest_file = ''\n",
    "dest_dir = '/home/ubuntu/demo'\n",
    "\n",
    "##Local endpoints\n",
    "local_globus_endpoint='6edd58d2-bfdb-11eb-bddc-5111456017d9'\n",
    "\n",
    "##Remote endpoints\n",
    "dest_funcx_endpoint = 'a694a32d-8707-4884-b205-3cfc87c4f667'\n",
    "dest_globus_endpoint='2e9e85d0-c4ad-11eb-87e2-559da91cd9a3'\n"
   ]
  },
  {
   "cell_type": "code",
   "execution_count": 16,
   "metadata": {},
   "outputs": [
    {
     "output_type": "stream",
     "name": "stdout",
     "text": [
      "{'input': {'funcx_endpoint_compute': 'a694a32d-8707-4884-b205-3cfc87c4f667',\n           'tar_input': '/home/ubuntu/demo/awesome.sauce.raf',\n           'transfer_destination_endpoint_id': '2e9e85d0-c4ad-11eb-87e2-559da91cd9a3',\n           'transfer_destination_path': '/home/ubuntu/demo/awesome.sauce.raf',\n           'transfer_recursive': False,\n           'transfer_source_endpoint_id': '6edd58d2-bfdb-11eb-bddc-5111456017d9',\n           'transfer_source_path': '/home/raf/workspace/gladier-client-template/notebooks/awesome.sauce.raf'}}\n"
     ]
    }
   ],
   "source": [
    "base_input = {\n",
    "    \"input\": {\n",
    "        #Processing variables\n",
    "        \"transfer_source_path\": os.path.join(local_dir,local_file),\n",
    "        \"transfer_destination_path\": os.path.join(dest_dir,local_file),\n",
    "        \"tar_input\": os.path.join(dest_dir,local_file),\n",
    "\n",
    "        'transfer_recursive': False,\n",
    "\n",
    "        # funcX endpoints\n",
    "        \"funcx_endpoint_compute\": dest_funcx_endpoint,\n",
    "\n",
    "        # globus endpoints\n",
    "        \"transfer_source_endpoint_id\": local_globus_endpoint,\n",
    "        \"transfer_destination_endpoint_id\": dest_globus_endpoint, \n",
    "    }\n",
    "}\n",
    "\n",
    "pprint(base_input)"
   ]
  },
  {
   "cell_type": "code",
   "execution_count": 17,
   "metadata": {},
   "outputs": [
    {
     "output_type": "stream",
     "name": "stdout",
     "text": [
      "  File : /home/raf/workspace/gladier-client-template/notebooks/awesome.sauce.raf\n  UUID : 668c3890-a6d6-4b55-b7d5-2912a32e7201\n"
     ]
    }
   ],
   "source": [
    "example_flow = exampleClient.run_flow(flow_input=base_input)\n",
    "print(\"  File : \" + base_input[\"input\"][\"transfer_source_path\"])\n",
    "print(\"  UUID : \" + example_flow['action_id'])"
   ]
  },
  {
   "cell_type": "code",
   "execution_count": null,
   "metadata": {},
   "outputs": [],
   "source": []
  }
 ]
}