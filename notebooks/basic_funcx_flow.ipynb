{
 "cells": [
  {
   "cell_type": "markdown",
   "metadata": {},
   "source": [
    "# Analysis Flow\n",
    "\n",
    "This notebook demonstrates how an Automate Flow can be used to perform analysis. \n",
    "We use a flow that combines Globus Transfer and funcX to move data and then execute an analysis code on the data."
   ]
  },
  {
   "cell_type": "code",
   "execution_count": 16,
   "metadata": {},
   "outputs": [],
   "source": [
    "from globus_automate_client import (create_flows_client, graphviz_format, state_colors_for_log,\n",
    "                                    create_action_client, \n",
    "                                    create_flows_client)\n",
    "\n",
    "import time\n",
    "import json\n",
    "import sys\n",
    "import os\n",
    "\n",
    "from funcx.sdk.client import FuncXClient\n",
    "\n",
    "CLIENT_ID = \"e6c75d97-532a-4c88-b031-8584a319fa3e\""
   ]
  },
  {
   "cell_type": "markdown",
   "metadata": {},
   "source": [
    "## Create an analysis function\n",
    "\n",
    "Use funcX to register a simple analysis function."
   ]
  },
  {
   "cell_type": "code",
   "execution_count": 17,
   "metadata": {},
   "outputs": [],
   "source": [
    "# fxc = FuncXClient()\n",
    "fxc = FuncXClient(use_offprocess_checker=False)"
   ]
  },
  {
   "cell_type": "code",
   "execution_count": 18,
   "metadata": {},
   "outputs": [
    {
     "output_type": "execute_result",
     "data": {
      "text/plain": [
       "'0.0.5'"
      ]
     },
     "metadata": {},
     "execution_count": 18
    }
   ],
   "source": [
    "import funcx\n",
    "funcx.__version__"
   ]
  },
  {
   "cell_type": "code",
   "execution_count": 19,
   "metadata": {},
   "outputs": [
    {
     "output_type": "stream",
     "name": "stdout",
     "text": [
      "b7787e3b-1b78-4579-a772-27b6e80690f6\n"
     ]
    }
   ],
   "source": [
    "def file_size(data):\n",
    "    \"\"\"Return the size of a file\"\"\"\n",
    "    import os\n",
    "    return os.path.getsize(data['pathname'])\n",
    "\n",
    "func_uuid = fxc.register_function(file_size)\n",
    "print(func_uuid)"
   ]
  },
  {
   "cell_type": "code",
   "execution_count": 20,
   "metadata": {},
   "outputs": [
    {
     "output_type": "stream",
     "name": "stdout",
     "text": [
      "c09de957-2338-4dd5-ae9e-293c7a4ee9fc\n"
     ]
    }
   ],
   "source": [
    "payload = {'pathname': '/etc/hostname'}\n",
    "tutorial_endpoint = 'a694a32d-8707-4884-b205-3cfc87c4f667' # Public tutorial endpoint\n",
    "res = fxc.run(payload, endpoint_id=tutorial_endpoint, function_id=func_uuid)\n",
    "print(res)"
   ]
  },
  {
   "cell_type": "code",
   "execution_count": 21,
   "metadata": {},
   "outputs": [
    {
     "output_type": "execute_result",
     "data": {
      "text/plain": [
       "16"
      ]
     },
     "metadata": {},
     "execution_count": 21
    }
   ],
   "source": [
    "fxc.get_result(res)"
   ]
  },
  {
   "cell_type": "markdown",
   "metadata": {},
   "source": [
    "## Create the flow"
   ]
  },
  {
   "cell_type": "code",
   "execution_count": 22,
   "metadata": {},
   "outputs": [],
   "source": [
    "flow_definition = {\n",
    "  \"Comment\": \"An analysis flow\",\n",
    "  \"StartAt\": \"funcx\",\n",
    "  \"States\": {\n",
    "    \"funcx\": {\n",
    "      \"Comment\": \"Run a funcX function\",\n",
    "      \"Type\": \"Action\",\n",
    "      \"ActionUrl\": \"https://api.funcx.org/automate\",\n",
    "      \"ActionScope\": \"https://auth.globus.org/scopes/facd7ccc-c5f4-42aa-916b-a0e270e2c2a9/automate2\",\n",
    "      \"Parameters\": {\n",
    "          \"tasks\": [{\n",
    "            \"endpoint.$\": \"$.input.fx_ep\",\n",
    "            \"func.$\": \"$.input.fx_id\",\n",
    "            \"payload.$\": \"$.input\"\n",
    "            }\n",
    "        }]\n",
    "      },\n",
    "      \"ResultPath\": \"$.AnalyzeResult\",\n",
    "      \"WaitTime\": 600,\n",
    "      \"End\": True\n",
    "    }\n",
    "  }\n",
    "}\n"
   ]
  },
  {
   "cell_type": "markdown",
   "metadata": {},
   "source": [
    "Register the flow"
   ]
  },
  {
   "cell_type": "code",
   "execution_count": 23,
   "metadata": {
    "scrolled": true
   },
   "outputs": [
    {
     "output_type": "stream",
     "name": "stdout",
     "text": [
      "GlobusHTTPResponse({'action_url': 'https://flows.globus.org/flows/1e370b96-4bc2-48c6-b38d-34f2fa385933', 'administered_by': [], 'api_version': '1.0', 'created_at': '2021-06-03T17:43:34.896398+00:00', 'created_by': 'urn:globus:auth:identity:95278182-10a1-11e6-9c7e-7b385f033313', 'definition': {'Comment': 'An analysis flow', 'StartAt': 'funcx', 'States': {'funcx': {'ActionScope': 'https://auth.globus.org/scopes/b3db7e59-a6f1-4947-95c2-59d6b7a70f8c/action_all', 'ActionUrl': 'https://automate.funcx.org', 'Comment': 'Run a funcX function', 'End': True, 'Parameters': {'tasks': [{'endpoint.$': '$.input.fx_ep', 'function.$': '$.input.fx_id', 'payload': {'pathname.$': '$.input.pathname'}}]}, 'ResultPath': '$.AnalyzeResult', 'Type': 'Action', 'WaitTime': 600}}}, 'description': '', 'flow_url': 'https://flows.globus.org/flows/1e370b96-4bc2-48c6-b38d-34f2fa385933', 'globus_auth_scope': 'https://auth.globus.org/scopes/1e370b96-4bc2-48c6-b38d-34f2fa385933/flow_1e370b96_4bc2_48c6_b38d_34f2fa385933_user', 'globus_auth_username': '1e370b96-4bc2-48c6-b38d-34f2fa385933@clients.auth.globus.org', 'id': '1e370b96-4bc2-48c6-b38d-34f2fa385933', 'keywords': [], 'log_supported': True, 'principal_urn': 'urn:globus:auth:identity:1e370b96-4bc2-48c6-b38d-34f2fa385933', 'runnable_by': [], 'subtitle': '', 'synchronous': False, 'title': 'Stills process workflow', 'types': ['Action'], 'updated_at': '2021-06-03T17:43:34.896398+00:00', 'visible_to': []})\nNewly created flow with id:\n1e370b96-4bc2-48c6-b38d-34f2fa385933\nand scope:\nhttps://auth.globus.org/scopes/1e370b96-4bc2-48c6-b38d-34f2fa385933/flow_1e370b96_4bc2_48c6_b38d_34f2fa385933_user\n"
     ]
    }
   ],
   "source": [
    "flows_client = create_flows_client(CLIENT_ID)\n",
    "flow = flows_client.deploy_flow(flow_definition, title=\"Stills process workflow\")\n",
    "flow_id = flow['id']\n",
    "print(flow)\n",
    "flow_scope = flow['globus_auth_scope']\n",
    "print(f'Newly created flow with id:\\n{flow_id}\\nand scope:\\n{flow_scope}')"
   ]
  },
  {
   "cell_type": "code",
   "execution_count": 24,
   "metadata": {},
   "outputs": [],
   "source": [
    "flow_input = {\n",
    "    \"input\": {\n",
    "        \"fx_id\": func_uuid,\n",
    "        \"fx_ep\": tutorial_endpoint,\n",
    "        \"pathname\": '/etc/hostname'\n",
    "    }\n",
    "}"
   ]
  },
  {
   "cell_type": "markdown",
   "metadata": {},
   "source": [
    "Run the flow and wait for it to complete\n",
    "\n",
    "Note: This will try to transfer a file called \"test.txt\" from your Globus Tutorial Endpoint 1."
   ]
  },
  {
   "cell_type": "code",
   "execution_count": 25,
   "metadata": {},
   "outputs": [
    {
     "output_type": "stream",
     "name": "stdout",
     "text": [
      "Please log into Globus here:\n",
      "----------------------------\n",
      "https://auth.globus.org/v2/oauth2/authorize?client_id=e6c75d97-532a-4c88-b031-8584a319fa3e&redirect_uri=https%3A%2F%2Fauth.globus.org%2Fv2%2Fweb%2Fauth-code&scope=https%3A%2F%2Fauth.globus.org%2Fscopes%2F1e370b96-4bc2-48c6-b38d-34f2fa385933%2Fflow_1e370b96_4bc2_48c6_b38d_34f2fa385933_user&state=_default&response_type=code&code_challenge=pLjYPKQPuyF5s1VS4WrRt19CZ2LxbRtatElZ9Ww9duA&code_challenge_method=S256&access_type=offline&prefill_named_grant=Globus+Automate+Command+Line+Interface+on+ripchip\n",
      "----------------------------\n",
      "\u001b[0m\n",
      "Enter the resulting Authorization Code here: Flow action started with id: e380eafc-3b96-4dfb-863c-0949802d7851\n",
      "Flow status: ACTIVE\n",
      "Flow status: FAILED\n"
     ]
    }
   ],
   "source": [
    "flow_action = flows_client.run_flow(flow_id, flow_scope, flow_input)\n",
    "# print(flow_action)\n",
    "flow_action_id = flow_action['action_id']\n",
    "flow_status = flow_action['status']\n",
    "print(f'Flow action started with id: {flow_action_id}')\n",
    "while flow_status == 'ACTIVE':\n",
    "    time.sleep(5)\n",
    "    flow_action = flows_client.flow_action_status(flow_id, flow_scope, flow_action_id)\n",
    "    flow_status = flow_action['status']\n",
    "    print(f'Flow status: {flow_status}')"
   ]
  },
  {
   "cell_type": "markdown",
   "metadata": {},
   "source": [
    "Check the result of the analysis function"
   ]
  },
  {
   "cell_type": "code",
   "execution_count": 26,
   "metadata": {
    "scrolled": true
   },
   "outputs": [
    {
     "output_type": "execute_result",
     "data": {
      "text/plain": [
       "{'code': 'FlowFailed',\n",
       " 'description': 'Flow Execution Failed',\n",
       " 'details': {'cause': {'message': '502 response from action URL https://automate.funcx.org with data {\"message\": \"Internal server error\"}'},\n",
       "  'exception': 'ActionUnableToRun',\n",
       "  'state_name': 'funcx'},\n",
       " 'time': '2021-06-03T17:44:41.062000+00:00'}"
      ]
     },
     "metadata": {},
     "execution_count": 26
    }
   ],
   "source": [
    "flow_action['details']"
   ]
  },
  {
   "cell_type": "code",
   "execution_count": null,
   "metadata": {},
   "outputs": [],
   "source": []
  }
 ],
 "metadata": {
  "kernelspec": {
   "name": "python395jvsc74a57bd01e1c5be25592289d0ad4fc0701504cf11195459da7e191f56974b79cf336da02",
   "display_name": "Python 3.9.5 64-bit ('gladier_demo': conda)"
  },
  "language_info": {
   "codemirror_mode": {
    "name": "ipython",
    "version": 3
   },
   "file_extension": ".py",
   "mimetype": "text/x-python",
   "name": "python",
   "nbconvert_exporter": "python",
   "pygments_lexer": "ipython3",
   "version": "3.9.5"
  }
 },
 "nbformat": 4,
 "nbformat_minor": 4
}