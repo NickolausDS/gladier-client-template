{
 "cells": [
  {
   "cell_type": "markdown",
   "metadata": {},
   "source": [
    "# Analysis Flow\n",
    "\n",
    "This notebook demonstrates how an Automate Flow can be used to perform analysis. \n",
    "We use a flow that combines Globus Transfer and funcX to move data and then execute an analysis code on the data."
   ]
  },
  {
   "cell_type": "code",
   "execution_count": 1,
   "metadata": {},
   "outputs": [],
   "source": [
    "from globus_automate_client import (create_flows_client, graphviz_format, state_colors_for_log,\n",
    "                                    create_action_client, \n",
    "                                    create_flows_client)\n",
    "\n",
    "import time\n",
    "import json\n",
    "import sys\n",
    "import os\n",
    "\n",
    "from funcx.sdk.client import FuncXClient\n",
    "\n",
    "CLIENT_ID = \"e6c75d97-532a-4c88-b031-8584a319fa3e\""
   ]
  },
  {
   "cell_type": "markdown",
   "metadata": {},
   "source": [
    "## Create an analysis function\n",
    "\n",
    "Use funcX to register a simple analysis function."
   ]
  },
  {
   "cell_type": "code",
   "execution_count": 2,
   "metadata": {},
   "outputs": [],
   "source": [
    "# fxc = FuncXClient()\n",
    "fxc = FuncXClient(use_offprocess_checker=False)"
   ]
  },
  {
   "cell_type": "code",
   "execution_count": 3,
   "metadata": {},
   "outputs": [
    {
     "data": {
      "text/plain": [
       "'0.2.3'"
      ]
     },
     "execution_count": 3,
     "metadata": {},
     "output_type": "execute_result"
    }
   ],
   "source": [
    "import funcx\n",
    "funcx.__version__"
   ]
  },
  {
   "cell_type": "code",
   "execution_count": 5,
   "metadata": {},
   "outputs": [
    {
     "name": "stdout",
     "output_type": "stream",
     "text": [
      "5172f1c2-f554-4228-8c60-873a96af07d4\n"
     ]
    }
   ],
   "source": [
    "def file_size(pathname):\n",
    "    \"\"\"Return the size of a file\"\"\"\n",
    "    return 1\n",
    "#     import os\n",
    "#     return os.path.getsize(data['pathname'])\n",
    "\n",
    "func_uuid = fxc.register_function(file_size)\n",
    "print(func_uuid)"
   ]
  },
  {
   "cell_type": "code",
   "execution_count": 6,
   "metadata": {},
   "outputs": [
    {
     "name": "stdout",
     "output_type": "stream",
     "text": [
      "3e10df1d-baaf-4a98-9ea3-45ca2e8abead\n"
     ]
    }
   ],
   "source": [
    "payload = {'pathname': '/etc/hostname'}\n",
    "tutorial_endpoint = '4b116d3c-1703-4f8f-9f6f-39921e5864df' # Public tutorial endpoint\n",
    "res = fxc.run(payload, endpoint_id=tutorial_endpoint, function_id=func_uuid)\n",
    "print(res)"
   ]
  },
  {
   "cell_type": "code",
   "execution_count": 7,
   "metadata": {},
   "outputs": [
    {
     "data": {
      "text/plain": [
       "1"
      ]
     },
     "execution_count": 7,
     "metadata": {},
     "output_type": "execute_result"
    }
   ],
   "source": [
    "fxc.get_result(res)"
   ]
  },
  {
   "cell_type": "markdown",
   "metadata": {},
   "source": [
    "## Create the flow"
   ]
  },
  {
   "cell_type": "code",
   "execution_count": 8,
   "metadata": {},
   "outputs": [],
   "source": [
    "flow_definition = {\n",
    "  \"Comment\": \"An analysis flow\",\n",
    "  \"StartAt\": \"funcx\",\n",
    "  \"States\": {\n",
    "    \"funcx\": {\n",
    "      \"Comment\": \"Run a funcX function\",\n",
    "      \"Type\": \"Action\",\n",
    "      \"ActionUrl\": \"https://automate.funcx.org\",\n",
    "      \"ActionScope\": \"https://auth.globus.org/scopes/b3db7e59-a6f1-4947-95c2-59d6b7a70f8c/action_all\",\n",
    "      \"Parameters\": {\n",
    "          \"tasks\": [{\n",
    "            \"endpoint.$\": \"$.input.fx_ep\",\n",
    "            \"function.$\": \"$.input.fx_id\",\n",
    "            \"payload\": {\n",
    "                \"pathname.$\": \"$.input.pathname\"\n",
    "            }\n",
    "        }]\n",
    "      },\n",
    "      \"ResultPath\": \"$.AnalyzeResult\",\n",
    "      \"WaitTime\": 600,\n",
    "      \"End\": True\n",
    "    }\n",
    "  }\n",
    "}\n"
   ]
  },
  {
   "cell_type": "markdown",
   "metadata": {},
   "source": [
    "Register the flow"
   ]
  },
  {
   "cell_type": "code",
   "execution_count": 9,
   "metadata": {
    "scrolled": true
   },
   "outputs": [
    {
     "name": "stdout",
     "output_type": "stream",
     "text": [
      "GlobusHTTPResponse({'action_url': 'https://flows.globus.org/flows/f3a0daae-2661-496f-b6d7-f7baa31c3fbb', 'administered_by': [], 'api_version': '1.0', 'created_at': '2021-05-27T17:55:41.729854+00:00', 'created_by': 'urn:globus:auth:identity:c4765424-d274-11e5-b894-cb4139f74ecf', 'definition': {'Comment': 'An analysis flow', 'StartAt': 'funcx', 'States': {'funcx': {'ActionScope': 'https://auth.globus.org/scopes/b3db7e59-a6f1-4947-95c2-59d6b7a70f8c/action_all', 'ActionUrl': 'https://automate.funcx.org', 'Comment': 'Run a funcX function', 'End': True, 'Parameters': {'tasks': [{'endpoint.$': '$.input.fx_ep', 'function.$': '$.input.fx_id', 'payload': {'pathname.$': '$.input.pathname'}}]}, 'ResultPath': '$.AnalyzeResult', 'Type': 'Action', 'WaitTime': 600}}}, 'description': '', 'flow_url': 'https://flows.globus.org/flows/f3a0daae-2661-496f-b6d7-f7baa31c3fbb', 'globus_auth_scope': 'https://auth.globus.org/scopes/f3a0daae-2661-496f-b6d7-f7baa31c3fbb/flow_f3a0daae_2661_496f_b6d7_f7baa31c3fbb_user', 'globus_auth_username': 'f3a0daae-2661-496f-b6d7-f7baa31c3fbb@clients.auth.globus.org', 'id': 'f3a0daae-2661-496f-b6d7-f7baa31c3fbb', 'keywords': [], 'log_supported': True, 'principal_urn': 'urn:globus:auth:identity:f3a0daae-2661-496f-b6d7-f7baa31c3fbb', 'runnable_by': [], 'subtitle': '', 'synchronous': False, 'title': 'Stills process workflow', 'types': ['Action'], 'updated_at': '2021-05-27T17:55:41.729854+00:00', 'visible_to': []})\n",
      "Newly created flow with id:\n",
      "f3a0daae-2661-496f-b6d7-f7baa31c3fbb\n",
      "and scope:\n",
      "https://auth.globus.org/scopes/f3a0daae-2661-496f-b6d7-f7baa31c3fbb/flow_f3a0daae_2661_496f_b6d7_f7baa31c3fbb_user\n"
     ]
    }
   ],
   "source": [
    "flows_client = create_flows_client(CLIENT_ID)\n",
    "flow = flows_client.deploy_flow(flow_definition, title=\"Stills process workflow\")\n",
    "flow_id = flow['id']\n",
    "print(flow)\n",
    "flow_scope = flow['globus_auth_scope']\n",
    "print(f'Newly created flow with id:\\n{flow_id}\\nand scope:\\n{flow_scope}')"
   ]
  },
  {
   "cell_type": "code",
   "execution_count": 10,
   "metadata": {},
   "outputs": [],
   "source": [
    "filename = 'test.txt'\n",
    "\n",
    "flow_input = {\n",
    "    \"input\": {\n",
    "        \"fx_id\": func_uuid,\n",
    "        \"fx_ep\": tutorial_endpoint,\n",
    "        \"pathname\": '/etc/hostname'\n",
    "    }\n",
    "}"
   ]
  },
  {
   "cell_type": "markdown",
   "metadata": {},
   "source": [
    "Run the flow and wait for it to complete\n",
    "\n",
    "Note: This will try to transfer a file called \"test.txt\" from your Globus Tutorial Endpoint 1."
   ]
  },
  {
   "cell_type": "code",
   "execution_count": 11,
   "metadata": {},
   "outputs": [
    {
     "name": "stdout",
     "output_type": "stream",
     "text": [
      "Please log into Globus here:\n",
      "----------------------------\n",
      "https://auth.globus.org/v2/oauth2/authorize?client_id=e6c75d97-532a-4c88-b031-8584a319fa3e&redirect_uri=https%3A%2F%2Fauth.globus.org%2Fv2%2Fweb%2Fauth-code&scope=https%3A%2F%2Fauth.globus.org%2Fscopes%2Ff3a0daae-2661-496f-b6d7-f7baa31c3fbb%2Fflow_f3a0daae_2661_496f_b6d7_f7baa31c3fbb_user&state=_default&response_type=code&code_challenge=77xk3uMMN5RoNe4dDW44XnO_r2IEgU0ypmi0zfN9umA&code_challenge_method=S256&access_type=offline&prefill_named_grant=Globus+Automate+Command+Line+Interface+on+Ryans-MacBook-Pro.local\n",
      "----------------------------\n",
      "\u001b[0m\n",
      "Enter the resulting Authorization Code here: GtzeKIEllxRsDH1SHjRk2FD1zpDUBH\n",
      "Flow action started with id: fb37e5f6-ba02-4004-b3df-46495b39a48b\n",
      "Flow status: ACTIVE\n",
      "Flow status: ACTIVE\n",
      "Flow status: ACTIVE\n",
      "Flow status: ACTIVE\n",
      "Flow status: ACTIVE\n",
      "Flow status: ACTIVE\n",
      "Flow status: ACTIVE\n",
      "Flow status: SUCCEEDED\n"
     ]
    }
   ],
   "source": [
    "flow_action = flows_client.run_flow(flow_id, flow_scope, flow_input)\n",
    "# print(flow_action)\n",
    "flow_action_id = flow_action['action_id']\n",
    "flow_status = flow_action['status']\n",
    "print(f'Flow action started with id: {flow_action_id}')\n",
    "while flow_status == 'ACTIVE':\n",
    "    time.sleep(5)\n",
    "    flow_action = flows_client.flow_action_status(flow_id, flow_scope, flow_action_id)\n",
    "    flow_status = flow_action['status']\n",
    "    print(f'Flow status: {flow_status}')"
   ]
  },
  {
   "cell_type": "markdown",
   "metadata": {},
   "source": [
    "Check the result of the analysis function"
   ]
  },
  {
   "cell_type": "code",
   "execution_count": 12,
   "metadata": {
    "scrolled": true
   },
   "outputs": [
    {
     "data": {
      "text/plain": [
       "{'output': {'AnalyzeResult': {'action_id': 'f38b8c38-4762-43ec-aa62-54e376881bab',\n",
       "   'details': '{\"223b1ce8-e33b-47f8-80c7-0cb3733a7814\": {\"result\": 1}}',\n",
       "   'display_status': 'Function Results Received',\n",
       "   'state_name': 'funcx',\n",
       "   'status': 'SUCCEEDED'},\n",
       "  'input': {'fx_ep': '4b116d3c-1703-4f8f-9f6f-39921e5864df',\n",
       "   'fx_id': '5172f1c2-f554-4228-8c60-873a96af07d4',\n",
       "   'pathname': '/etc/hostname'}}}"
      ]
     },
     "execution_count": 12,
     "metadata": {},
     "output_type": "execute_result"
    }
   ],
   "source": [
    "flow_action['details']"
   ]
  },
  {
   "cell_type": "code",
   "execution_count": null,
   "metadata": {},
   "outputs": [],
   "source": []
  }
 ],
 "metadata": {
  "kernelspec": {
   "display_name": "Python 3",
   "language": "python",
   "name": "python3"
  },
  "language_info": {
   "codemirror_mode": {
    "name": "ipython",
    "version": 3
   },
   "file_extension": ".py",
   "mimetype": "text/x-python",
   "name": "python",
   "nbconvert_exporter": "python",
   "pygments_lexer": "ipython3",
   "version": "3.9.2"
  }
 },
 "nbformat": 4,
 "nbformat_minor": 4
}
