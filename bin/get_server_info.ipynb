{
 "cells": [
  {
   "cell_type": "markdown",
   "metadata": {},
   "source": [
    "# Server Check\n",
    "\n",
    "This notebook checks the version of a server based on UUID"
   ]
  },
  {
   "cell_type": "code",
   "execution_count": 26,
   "metadata": {},
   "outputs": [],
   "source": [
    "import funcx\n",
    "from funcx.sdk.client import FuncXClient\n",
    "CLIENT_ID = \"e6c75d97-532a-4c88-b031-8584a319fa3e\""
   ]
  },
  {
   "cell_type": "code",
   "execution_count": 27,
   "metadata": {},
   "outputs": [],
   "source": [
    "fxc = FuncXClient(use_offprocess_checker=False)\n",
    "\n",
    "def check_server():\n",
    "    import funcx as fx \n",
    "    import funcx_endpoint as fxe\n",
    "    fxv = fx.__version__\n",
    "    fxev = fxe.__version__\n",
    "    return(fxv,fxev)\n",
    "\n",
    "func_uuid = fxc.register_function(check_server)\n",
    "\n",
    "def check_ep(endpoint_id):\n",
    "    res = fxc.run(endpoint_id=endpoint_id, function_id=func_uuid)\n",
    "    version =fxc.get_result(res)\n",
    "    print('EP Funcx Version = ' + version[0])\n",
    "    print('EP Funcx-Endpoint Version = ' + version[1])\n",
    "    return version\n"
   ]
  },
  {
   "cell_type": "code",
   "execution_count": 28,
   "metadata": {},
   "outputs": [
    {
     "output_type": "stream",
     "name": "stdout",
     "text": [
      "Local funcx version = 0.2.3\n",
      "EP Funcx Version = 0.2.3\n",
      "EP Funcx-Endpoint Version = 0.2.3\n"
     ]
    },
    {
     "output_type": "execute_result",
     "data": {
      "text/plain": [
       "('0.2.3', '0.2.3')"
      ]
     },
     "metadata": {},
     "execution_count": 28
    }
   ],
   "source": [
    "tutorial_endpoint = '4b116d3c-1703-4f8f-9f6f-39921e5864df' # Public tutorial endpoint\n",
    "##\n",
    "print('Local funcx version = ' + funcx.__version__)\n",
    "## \n",
    "check_ep(tutorial_endpoint)"
   ]
  }
 ],
 "metadata": {
  "kernelspec": {
   "name": "python395jvsc74a57bd09ec96f72c057f5570a920a7bee72360bdcf277cd85076a4a0c5e47974dfcca21",
   "display_name": "Python 3.9.5 64-bit ('gladier-test': conda)"
  },
  "language_info": {
   "codemirror_mode": {
    "name": "ipython",
    "version": 3
   },
   "file_extension": ".py",
   "mimetype": "text/x-python",
   "name": "python",
   "nbconvert_exporter": "python",
   "pygments_lexer": "ipython3",
   "version": "3.9.5"
  }
 },
 "nbformat": 4,
 "nbformat_minor": 4
}